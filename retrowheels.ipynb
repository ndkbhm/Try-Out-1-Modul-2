{
 "metadata": {
  "language_info": {
   "codemirror_mode": {
    "name": "ipython",
    "version": 3
   },
   "file_extension": ".py",
   "mimetype": "text/x-python",
   "name": "python",
   "nbconvert_exporter": "python",
   "pygments_lexer": "ipython3",
   "version": "3.9.1"
  },
  "orig_nbformat": 2,
  "kernelspec": {
   "name": "python391jvsc74a57bd023300995598eec4bcf6bd89cf02d1c3675e8b2616661418dbbf5580aa901878d",
   "display_name": "Python 3.9.1 64-bit"
  },
  "metadata": {
   "interpreter": {
    "hash": "23300995598eec4bcf6bd89cf02d1c3675e8b2616661418dbbf5580aa901878d"
   }
  }
 },
 "nbformat": 4,
 "nbformat_minor": 2,
 "cells": [
  {
   "cell_type": "code",
   "execution_count": 37,
   "metadata": {},
   "outputs": [],
   "source": [
    "import mysql.connector\n",
    "import pandas as pd \n",
    "\n",
    "mydb = mysql.connector.connect(\n",
    "    host = 'localhost',\n",
    "    user = 'root',\n",
    "    passwd = 'root',\n",
    "    database = 'retrowheels'\n",
    ")"
   ]
  },
  {
   "cell_type": "code",
   "execution_count": 43,
   "metadata": {},
   "outputs": [
    {
     "output_type": "stream",
     "name": "stdout",
     "text": [
      "   Customers  Cities  Countries\n0        122      95         27\n"
     ]
    }
   ],
   "source": [
    "mycursor = mydb.cursor()\n",
    "\n",
    "query = \"select count(distinct customerName) as 'Customers', count(distinct city) as 'Cities', count(distinct country) as 'Countries' from customers\"\n",
    "\n",
    "mycursor.execute(query)\n",
    "\n",
    "result = mycursor.fetchall()\n",
    "\n",
    "df = pd.DataFrame(result, columns = mycursor.column_names)\n",
    "print(df)"
   ]
  },
  {
   "cell_type": "code",
   "execution_count": 44,
   "metadata": {},
   "outputs": [
    {
     "output_type": "stream",
     "name": "stdout",
     "text": [
      "   Employees  Office  Country  Products StockProducts  Vendors\n0         23       7        5       110        555131       13\n"
     ]
    }
   ],
   "source": [
    "mycursor = mydb.cursor()\n",
    "\n",
    "query = \"select count(distinct employees.employeeNumber) as 'Employees', count(distinct employees.officeCode) as 'Office', count(distinct offices.country) as 'Country', count(distinct productCode) as 'Products', sum(distinct quantityInStock) as 'StockProducts', count(distinct productVendor) as 'Vendors' from employees, offices, products where employees.officeCode=offices.officeCode\"\n",
    "\n",
    "mycursor.execute(query)\n",
    "\n",
    "result = mycursor.fetchall()\n",
    "\n",
    "df = pd.DataFrame(result, columns = mycursor.column_names)\n",
    "print(df)"
   ]
  },
  {
   "cell_type": "code",
   "execution_count": 42,
   "metadata": {},
   "outputs": [
    {
     "output_type": "stream",
     "name": "stdout",
     "text": [
      "        productLine minPrice maxPrice\n0      Classic Cars    15.91   103.42\n1       Motorcycles    24.14    91.02\n2            Planes    29.34    77.27\n3             Ships    33.30    82.34\n4            Trains    26.72    67.56\n5  Trucks and Buses    24.92    84.76\n6      Vintage Cars    20.61    86.70\n"
     ]
    }
   ],
   "source": [
    "mycursor = mydb.cursor()\n",
    "\n",
    "query = \"select distinct productLine, min(buyPrice) as 'minPrice', max(buyPrice) as 'maxPrice' from products group by productLine\"\n",
    "\n",
    "mycursor.execute(query)\n",
    "\n",
    "result = mycursor.fetchall()\n",
    "\n",
    "df = pd.DataFrame(result, columns = mycursor.column_names)\n",
    "print(df)"
   ]
  },
  {
   "cell_type": "code",
   "execution_count": null,
   "metadata": {},
   "outputs": [],
   "source": []
  }
 ]
}